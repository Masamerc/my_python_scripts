{
 "cells": [
  {
   "cell_type": "code",
   "execution_count": null,
   "metadata": {},
   "outputs": [],
   "source": [
    "import os\n",
    "import praw\n",
    "\n",
    "from dataclasses import dataclass\n",
    "from decouple import config\n",
    "\n",
    "\n",
    "reddit = praw.Reddit(\n",
    "    client_id=config(\"REDDIT_KEY\"),\n",
    "    client_secret=config(\"REDDIT_SECRET\"),\n",
    "    user_agent=\"NA\"\n",
    ")\n",
    "\n",
    "# initialize subreddit instance of \"Mr.Robot\" subreddit\n",
    "mr = reddit.subreddit(\"MrRobot\")\n",
    "\n",
    "# get 10 sumissions from \"hot\" category\n",
    "def get_submissions(subreddit_with_category, limit) -> list: # example: mr.hot(limit=10)\n",
    "    return [sub for sub in subreddit_with_category(limit=limit)]\n",
    "\n",
    "# extract comments from submissions\n",
    "def get_comments(submission, attribute=None) -> list:\n",
    "    if attribute:\n",
    "        return [comment.body for comment in submission.comments]\n",
    "    return list(submission.comments)\n",
    "\n",
    "\n",
    "hot_mr_subs = get_submissions(mr.hot, 10)\n",
    "\n",
    "breakpoint()\n"
   ]
  }
 ],
 "metadata": {
  "kernelspec": {
   "display_name": "Python 3",
   "language": "python",
   "name": "python3"
  },
  "language_info": {
   "codemirror_mode": {
    "name": "ipython",
    "version": 3
   },
   "file_extension": ".py",
   "mimetype": "text/x-python",
   "name": "python",
   "nbconvert_exporter": "python",
   "pygments_lexer": "ipython3",
   "version": "3.8.3"
  }
 },
 "nbformat": 4,
 "nbformat_minor": 4
}
