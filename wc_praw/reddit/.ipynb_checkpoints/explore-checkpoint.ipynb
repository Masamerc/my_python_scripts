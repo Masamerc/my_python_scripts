{
 "cells": [
  {
   "cell_type": "code",
   "execution_count": 132,
   "metadata": {},
   "outputs": [],
   "source": [
    "import datetime\n",
    "import os\n",
    "import praw\n",
    "import pandas as pd\n",
    "\n",
    "from dataclasses import dataclass, asdict\n",
    "from decouple import config\n",
    "from tqdm import tqdm\n",
    "\n",
    "\n",
    "reddit = praw.Reddit(\n",
    "    client_id=config(\"REDDIT_KEY\"),\n",
    "    client_secret=config(\"REDDIT_SECRET\"),\n",
    "    user_agent=\"NA\"\n",
    ")\n",
    "\n"
   ]
  },
  {
   "cell_type": "markdown",
   "metadata": {},
   "source": [
    "## Functions"
   ]
  },
  {
   "cell_type": "code",
   "execution_count": 135,
   "metadata": {},
   "outputs": [],
   "source": [
    "\n",
    "def extract_attributes_from_subreddit(subreddit):\n",
    "    return {\n",
    "        \"active_user_count\": subreddit.active_user_count,\n",
    "        \"url\": subreddit.url,\n",
    "        \"title\": subreddit.title,\n",
    "        \"subscribers\": subreddit.subscribers,\n",
    "        \"subreddit_type\": subreddit.subreddit_type,\n",
    "        \"spoilers_enabled\": subreddit.spoilers_enabled,\n",
    "        \"public_description\": subreddit.public_description,\n",
    "        \"over18\": subreddit.over18,\n",
    "        \"created\": subreddit.created,\n",
    "        \"created_utc\": subreddit.created_utc,\n",
    "        \"lang\": subreddit.lang,\n",
    "        \"videos_allowed\": subreddit.allow_videos,\n",
    "        \"images_allowed\": subreddit.allow_images\n",
    "    }\n",
    "\n",
    "\n",
    "def convert_timestamp(ts):\n",
    "    datetime_obj = datetime.datetime.fromtimestamp(ts)\n",
    "    date = datetime.datetime.strftime(datetime_obj,\"%m-%d-%Y\")\n",
    "    return date\n",
    "\n",
    "\n",
    "\n",
    "def get_submissions(subreddit_name: str, category: str, limit: int) -> list:\n",
    "    '''\n",
    "    Categories: hot, new or top\n",
    "    \n",
    "    >>> get_submissions('MrRobot', 'hot', 10)\n",
    "    '''\n",
    "    subreddit = reddit.subreddit(subreddit_name)\n",
    "    if category == 'hot':\n",
    "        submission_obj = subreddit.hot(limit=limit)\n",
    "    elif category == 'new':\n",
    "        submission_obj = subreddit.new(limit=limit)\n",
    "    else:\n",
    "        submission_obj = subreddit.top(limit=limit)\n",
    "    \n",
    "    return [sub for sub in submission_obj]\n",
    "\n",
    "\n",
    "\n",
    "def get_comments(submission: praw.models.reddit.submission.Submission, body: bool=False) -> list:\n",
    "    if body:\n",
    "        return [comment.body for comment in submission.comments]\n",
    "    return list(submission.comments)\n",
    "\n"
   ]
  },
  {
   "cell_type": "code",
   "execution_count": 41,
   "metadata": {},
   "outputs": [],
   "source": [
    "mr10h = get_submissions('MrRobot', 'hot', 10)"
   ]
  },
  {
   "cell_type": "code",
   "execution_count": 125,
   "metadata": {},
   "outputs": [],
   "source": [
    "\n",
    "@dataclass\n",
    "class Submission:\n",
    "    subreddit_url: str\n",
    "    subreddit_name: str\n",
    "    title: str\n",
    "    selftext: str\n",
    "    author: str\n",
    "    created: int\n",
    "    \n",
    "    over_18: bool\n",
    "    edited: bool\n",
    "    is_original_content: bool\n",
    "    locked: bool\n",
    "    spoiler: bool\n",
    "    \n",
    "    num_comments: int\n",
    "    num_crossposts: int\n",
    "    num_duplicates: int\n",
    "    num_reports: int\n",
    "    num_upvotes: int\n",
    "    num_downvotes: int\n",
    "    \n",
    "    def __post_init__(self):\n",
    "        self.title = self.title.replace(',', ' ')\n",
    "        self.selftext = self.selftext.replace(',', ' ')\n",
    "        self.created = convert_timestamp(self.created)\n",
    "        \n",
    "        \n",
    "@dataclass\n",
    "class Comment:\n",
    "    '''\n",
    "    Comment dataclass\n",
    "    '''"
   ]
  },
  {
   "cell_type": "code",
   "execution_count": 138,
   "metadata": {},
   "outputs": [
    {
     "data": {
      "text/plain": [
       "Submission(subreddit_url='/r/MrRobot/', subreddit_name='MrRobot', title='Free Talk Monthly (Month of August 04  2020)', selftext='Comments are sorted by new by default. Feel free to talk about anything. Spoiler tags are not needed for any Mr. Robot talk.', author='AutoModerator', created='08-05-2020', over_18=False, edited=False, is_original_content=False, locked=False, spoiler=False, num_comments=14, num_crossposts=0, num_duplicates=0, num_reports=None, num_upvotes=8, num_downvotes=0)"
      ]
     },
     "execution_count": 138,
     "metadata": {},
     "output_type": "execute_result"
    }
   ],
   "source": [
    "testsub = Submission(\n",
    "    mr10h[0].subreddit.url,\n",
    "    mr10h[0].subreddit.url.split('/')[-2],\n",
    "    mr10h[0].title,\n",
    "    mr10h[0].selftext,\n",
    "    mr10h[0].author.name,\n",
    "    mr10h[0].created,\n",
    "    mr10h[0].over_18,\n",
    "    mr10h[0].edited,\n",
    "    mr10h[0].is_original_content,\n",
    "    mr10h[0].locked,\n",
    "    mr10h[0].spoiler,\n",
    "    mr10h[0].num_comments,\n",
    "    mr10h[0].num_crossposts,\n",
    "    mr10h[0].num_duplicates,\n",
    "    mr10h[0].num_reports,\n",
    "    mr10h[0].ups,\n",
    "    mr10h[0].downs\n",
    "    \n",
    ")\n",
    "\n",
    "testsub"
   ]
  },
  {
   "cell_type": "code",
   "execution_count": 152,
   "metadata": {},
   "outputs": [
    {
     "data": {
      "text/plain": [
       "'i think its an lsd friendly show. its so immersive.'"
      ]
     },
     "execution_count": 152,
     "metadata": {},
     "output_type": "execute_result"
    }
   ],
   "source": [
    "testcoms = get_comments(mr10h[0])\n",
    "\n",
    "testcoms[1].replies[0].body"
   ]
  },
  {
   "cell_type": "markdown",
   "metadata": {},
   "source": [
    "# Top 100"
   ]
  },
  {
   "cell_type": "code",
   "execution_count": 27,
   "metadata": {},
   "outputs": [],
   "source": [
    "import pandas as pd\n",
    "import datetime\n",
    "\n",
    "date_asof = datetime.datetime.strftime(datetime.datetime.now(),\"%m-%d-%Y\")\n",
    "date_file_format = datetime.datetime.strftime(datetime.datetime.now(),\"%m%d%Y\")\n",
    "\n",
    "top_100 = pd.read_html('https://frontpagemetrics.com/top')"
   ]
  },
  {
   "cell_type": "code",
   "execution_count": 3,
   "metadata": {},
   "outputs": [],
   "source": [
    "top_100_subreddits = top_100[0]\n",
    "top_100_subreddits = [subreddit.split('/')[-1] for subreddit in top_100_subreddits.Reddit]"
   ]
  },
  {
   "cell_type": "code",
   "execution_count": 23,
   "metadata": {},
   "outputs": [
    {
     "name": "stderr",
     "output_type": "stream",
     "text": [
      "100%|██████████| 100/100 [00:00<00:00, 117224.82it/s]\n"
     ]
    }
   ],
   "source": [
    "subreddits = [reddit.subreddit(subreddit_name) for subreddit_name in tqdm(top_100_subreddits)]"
   ]
  },
  {
   "cell_type": "code",
   "execution_count": 24,
   "metadata": {},
   "outputs": [
    {
     "name": "stderr",
     "output_type": "stream",
     "text": [
      "100%|██████████| 100/100 [00:30<00:00,  3.32it/s]\n"
     ]
    }
   ],
   "source": [
    "subreddit_data = [extract_attributes_from_subreddit(subreddit) for subreddit in tqdm(subreddits)]"
   ]
  },
  {
   "cell_type": "code",
   "execution_count": 9,
   "metadata": {},
   "outputs": [],
   "source": [
    "subreddits_df = pd.DataFrame(subreddit_data)"
   ]
  },
  {
   "cell_type": "code",
   "execution_count": 28,
   "metadata": {},
   "outputs": [],
   "source": [
    "subreddits_df['created_date'] = subreddits_df.created.apply(convert_timestamp)\n",
    "subreddits_df['name'] = top_100_subreddits\n",
    "subreddits_df['asof'] = date_asof"
   ]
  },
  {
   "cell_type": "code",
   "execution_count": 29,
   "metadata": {},
   "outputs": [],
   "source": [
    "subreddits_df.to_csv(f'top100subreddits{date_file_format}.csv', index=False)"
   ]
  },
  {
   "cell_type": "code",
   "execution_count": null,
   "metadata": {},
   "outputs": [],
   "source": []
  }
 ],
 "metadata": {
  "kernelspec": {
   "display_name": "Python 3",
   "language": "python",
   "name": "python3"
  },
  "language_info": {
   "codemirror_mode": {
    "name": "ipython",
    "version": 3
   },
   "file_extension": ".py",
   "mimetype": "text/x-python",
   "name": "python",
   "nbconvert_exporter": "python",
   "pygments_lexer": "ipython3",
   "version": "3.8.3"
  }
 },
 "nbformat": 4,
 "nbformat_minor": 4
}
