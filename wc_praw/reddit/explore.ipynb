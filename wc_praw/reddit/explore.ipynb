{
 "cells": [
  {
   "cell_type": "code",
   "execution_count": 13,
   "metadata": {},
   "outputs": [],
   "source": [
    "import os\n",
    "import praw\n",
    "import pandas as pd\n",
    "\n",
    "from dataclasses import dataclass\n",
    "from decouple import config\n",
    "\n",
    "\n",
    "reddit = praw.Reddit(\n",
    "    client_id=config(\"REDDIT_KEY\"),\n",
    "    client_secret=config(\"REDDIT_SECRET\"),\n",
    "    user_agent=\"NA\"\n",
    ")\n",
    "\n",
    "# initialize subreddit instance of \"Mr.Robot\" subreddit\n",
    "mr = reddit.subreddit(\"MrRobot\")\n",
    "\n",
    "# get 10 sumissions from \"hot\" category\n",
    "def get_submissions(subreddit_with_category, limit) -> list: # example: mr.hot(limit=10)\n",
    "    return [sub for sub in subreddit_with_category(limit=limit)]\n",
    "\n",
    "# extract comments from submissions\n",
    "def get_comments(submission, attribute=None) -> list:\n",
    "    if attribute:\n",
    "        return [comment.body for comment in submission.comments]\n",
    "    return list(submission.comments)\n",
    "\n",
    "\n",
    "hot_mr_subs = get_submissions(mr.hot, 10)"
   ]
  },
  {
   "cell_type": "code",
   "execution_count": 2,
   "metadata": {},
   "outputs": [],
   "source": [
    "df = pd.read_csv('data/top_30_subreddits.csv')\n",
    "top_30_subreddit_names = list(df['subreddit_name'])\n",
    "\n",
    "subreddits = [reddit.subreddit(subreddit_name) for subreddit_name in top_30_subreddit_names]"
   ]
  },
  {
   "cell_type": "markdown",
   "metadata": {},
   "source": [
    "## Functions"
   ]
  },
  {
   "cell_type": "code",
   "execution_count": 38,
   "metadata": {},
   "outputs": [],
   "source": [
    "\n",
    "def extract_attributes(subreddit):\n",
    "    return {\n",
    "        \"active_user_count\": subreddit.active_user_count,\n",
    "        \"url\": subreddit.url,\n",
    "        \"title\": subreddit.title,\n",
    "        \"subscribers\": subreddit.subscribers,\n",
    "        \"subreddit_type\": subreddit.subreddit_type,\n",
    "        \"spoilers_enabled\": subreddit.spoilers_enabled,\n",
    "        \"public_description\": subreddit.public_description,\n",
    "        \"over18\": subreddit.over18,\n",
    "        \"created\": subreddit.created,\n",
    "        \"created_utc\": subreddit.created_utc,\n",
    "        \"lang\": subreddit.lang,\n",
    "        \"videos_allowed\": subreddit.allow_videos,\n",
    "        \"images_allowed\": subreddit.allow_images\n",
    "    }\n",
    "\n",
    "def convert_timestamp(ts):\n",
    "    datetime_obj = datetime.datetime.fromtimestamp(ts)\n",
    "    date = datetime.datetime.strftime(datetime_obj,\"%m-%d-%Y\")\n",
    "    return date"
   ]
  },
  {
   "cell_type": "markdown",
   "metadata": {},
   "source": [
    "# Top 100"
   ]
  },
  {
   "cell_type": "code",
   "execution_count": 24,
   "metadata": {},
   "outputs": [],
   "source": [
    "import pandas as pd\n",
    "import datetime\n",
    "\n",
    "\n",
    "top_100 = pd.read_html('https://frontpagemetrics.com/top')"
   ]
  },
  {
   "cell_type": "code",
   "execution_count": 10,
   "metadata": {},
   "outputs": [],
   "source": [
    "top_100_subreddits = top_100[0]\n",
    "top_100_subreddits = [subreddit.split('/')[-1] for subreddit in top_100_subreddits.Reddit]Add to cart"
   ]
  },
  {
   "cell_type": "code",
   "execution_count": 14,
   "metadata": {},
   "outputs": [],
   "source": [
    "subreddits = [reddit.subreddit(subreddit_name) for subreddit_name in top_100_subreddits]"
   ]
  },
  {
   "cell_type": "code",
   "execution_count": 18,
   "metadata": {},
   "outputs": [],
   "source": [
    "subreddit_data = [extract_attributes(subreddit) for subreddit in subreddits]"
   ]
  },
  {
   "cell_type": "code",
   "execution_count": 22,
   "metadata": {},
   "outputs": [],
   "source": [
    "subreddits_df = pd.DataFrame(subreddit_data)"
   ]
  },
  {
   "cell_type": "code",
   "execution_count": 35,
   "metadata": {},
   "outputs": [],
   "source": [
    "subreddits_df['created_date'] = subreddits_df.created.apply(convert_timestamp)"
   ]
  },
  {
   "cell_type": "code",
   "execution_count": 37,
   "metadata": {},
   "outputs": [],
   "source": [
    "subreddits_df.to_csv('top100subreddits.csv', index=False)"
   ]
  },
  {
   "cell_type": "markdown",
   "metadata": {},
   "source": [
    "### submission type\n",
    "- hot\n",
    "- new\n",
    "- top"
   ]
  },
  {
   "cell_type": "code",
   "execution_count": 56,
   "metadata": {},
   "outputs": [
    {
     "data": {
      "text/plain": [
       "100"
      ]
     },
     "execution_count": 56,
     "metadata": {},
     "output_type": "execute_result"
    }
   ],
   "source": [
    "len(list(subreddits[0].hot(limit=100)))"
   ]
  },
  {
   "cell_type": "code",
   "execution_count": null,
   "metadata": {},
   "outputs": [],
   "source": []
  }
 ],
 "metadata": {
  "kernelspec": {
   "display_name": "Python 3",
   "language": "python",
   "name": "python3"
  },
  "language_info": {
   "codemirror_mode": {
    "name": "ipython",
    "version": 3
   },
   "file_extension": ".py",
   "mimetype": "text/x-python",
   "name": "python",
   "nbconvert_exporter": "python",
   "pygments_lexer": "ipython3",
   "version": "3.8.3"
  }
 },
 "nbformat": 4,
 "nbformat_minor": 4
}
