{
 "cells": [
  {
   "cell_type": "code",
   "execution_count": 1,
   "metadata": {},
   "outputs": [],
   "source": [
    "import datetime\n",
    "import os\n",
    "import praw\n",
    "import pandas as pd\n",
    "\n",
    "from dataclasses import dataclass, asdict\n",
    "from decouple import config\n",
    "from tqdm import tqdm\n",
    "\n",
    "\n",
    "reddit = praw.Reddit(\n",
    "    client_id=config(\"REDDIT_KEY\"),\n",
    "    client_secret=config(\"REDDIT_SECRET\"),\n",
    "    user_agent=\"NA\"\n",
    ")\n",
    "\n"
   ]
  },
  {
   "cell_type": "markdown",
   "metadata": {},
   "source": [
    "## Functions"
   ]
  },
  {
   "cell_type": "code",
   "execution_count": 2,
   "metadata": {},
   "outputs": [],
   "source": [
    "\n",
    "def extract_attributes_from_subreddit(subreddit):\n",
    "    return {\n",
    "        \"active_user_count\": subreddit.active_user_count,\n",
    "        \"url\": subreddit.url,\n",
    "        \"title\": subreddit.title,\n",
    "        \"subscribers\": subreddit.subscribers,\n",
    "        \"subreddit_type\": subreddit.subreddit_type,\n",
    "        \"spoilers_enabled\": subreddit.spoilers_enabled,\n",
    "        \"public_description\": subreddit.public_description,\n",
    "        \"over18\": subreddit.over18,\n",
    "        \"created\": subreddit.created,\n",
    "        \"created_utc\": subreddit.created_utc,\n",
    "        \"lang\": subreddit.lang,\n",
    "        \"videos_allowed\": subreddit.allow_videos,\n",
    "        \"images_allowed\": subreddit.allow_images\n",
    "    }\n",
    "\n",
    "\n",
    "def convert_timestamp(ts):\n",
    "    datetime_obj = datetime.datetime.fromtimestamp(ts)\n",
    "    date = datetime.datetime.strftime(datetime_obj,\"%m-%d-%Y\")\n",
    "    return date\n",
    "\n",
    "\n",
    "\n",
    "def get_submissions(subreddit_name: str, category: str, limit: int) -> list:\n",
    "    '''\n",
    "    Categories: hot, new or top\n",
    "    \n",
    "    >>> get_submissions('MrRobot', 'hot', 10)\n",
    "    '''\n",
    "    subreddit = reddit.subreddit(subreddit_name)\n",
    "    if category == 'hot':\n",
    "        submission_obj = subreddit.hot(limit=limit)\n",
    "    elif category == 'new':\n",
    "        submission_obj = subreddit.new(limit=limit)\n",
    "    else:\n",
    "        submission_obj = subreddit.top(limit=limit)\n",
    "    \n",
    "    return [sub for sub in submission_obj]\n",
    "\n",
    "\n",
    "\n",
    "def get_comments(submission: praw.models.reddit.submission.Submission, body: bool=False) -> list:\n",
    "    if body:\n",
    "        return [comment.body for comment in submission.comments]\n",
    "    return list(submission.comments)\n",
    "\n"
   ]
  },
  {
   "cell_type": "code",
   "execution_count": 60,
   "metadata": {},
   "outputs": [],
   "source": [
    "mr10h = get_submissions('MrRobot', 'hot', 10)"
   ]
  },
  {
   "cell_type": "code",
   "execution_count": 76,
   "metadata": {},
   "outputs": [],
   "source": [
    "\n",
    "@dataclass\n",
    "class Submission:\n",
    "    subreddit_url: str\n",
    "    subreddit_name: str\n",
    "    title: str\n",
    "    selftext: str\n",
    "    author: str\n",
    "    created: int\n",
    "    \n",
    "    over_18: bool\n",
    "    edited: bool\n",
    "    is_original_content: bool\n",
    "    locked: bool\n",
    "    spoiler: bool\n",
    "    \n",
    "    num_comments: int\n",
    "    num_crossposts: int\n",
    "    num_duplicates: int\n",
    "    num_reports: int\n",
    "    num_upvotes: int\n",
    "    num_downvotes: int\n",
    "    \n",
    "    def __post_init__(self):\n",
    "        self.title = self.title.replace(',', ' ')\n",
    "        self.selftext = self.selftext.replace(',', ' ')\n",
    "        self.created = convert_timestamp(self.created)\n",
    "    \n",
    "    \n",
    "def submission_factory(subreddit):\n",
    "    return  Submission(\n",
    "    subreddit.subreddit.url,\n",
    "    subreddit.subreddit.url.split('/')[-2],\n",
    "    subreddit.title,\n",
    "    subreddit.selftext,\n",
    "    subreddit.author.name,\n",
    "    subreddit.created,\n",
    "    subreddit.over_18,\n",
    "    subreddit.edited,\n",
    "    subreddit.is_original_content,\n",
    "    subreddit.locked,\n",
    "    subreddit.spoiler,\n",
    "    subreddit.num_comments,\n",
    "    subreddit.num_crossposts,\n",
    "    subreddit.num_duplicates,\n",
    "    subreddit.num_reports,\n",
    "    subreddit.ups,\n",
    "    subreddit.downs\n",
    "    )\n",
    "\n",
    "\n",
    "@dataclass\n",
    "class Comment:\n",
    "    author: str\n",
    "    created: int\n",
    "    body: str\n",
    "    ups: int\n",
    "    downs: int\n",
    "    subreddit: str\n",
    "    submission: str\n",
    "        \n",
    "    def __post_init__(self):\n",
    "        self.body = self.body.replace(',', ' ')\n",
    "        self.created = convert_timestamp(self.created)\n",
    "        \n",
    "        \n",
    "def comment_factory(comment):\n",
    "    return Comment(\n",
    "        comment.author.name,\n",
    "        comment.created,\n",
    "        comment.body,\n",
    "        comment.ups,\n",
    "        comment.downs,\n",
    "        comment.subreddit.title,\n",
    "        comment.submission.title\n",
    "    )\n",
    "\n",
    "\n",
    "# testcoms = get_comments(mr10h[0])\n",
    "# comments = [comment_factory(comment) for comment in testcoms]"
   ]
  },
  {
   "cell_type": "code",
   "execution_count": 78,
   "metadata": {
    "collapsed": true,
    "jupyter": {
     "outputs_hidden": true,
     "source_hidden": true
    }
   },
   "outputs": [
    {
     "data": {
      "text/plain": [
       "[Comment(author='tavuskusu', created='09-05-2020', body='I recently started my first whole series rewatch since watching S4 live as it came out last fall. I needed some time. It definitely struck some deep chords within me. But damn. I don’t think I’ll ever find another show that matters so much to me.', ups=5, downs=0, subreddit='Mr. Robot', submission='Free Talk Monthly (Month of September 04, 2020)'),\n",
       " Comment(author='fifteensunflwrs', created='09-06-2020', body=\"The only inconsistency in this show: in the second episode  Elliot mentioned that now that he is going to try to have a normal life maybe he'll go to gym. But at the same time he is lowkey pretty ripped???? Literally unwatchable....\", ups=2, downs=0, subreddit='Mr. Robot', submission='Free Talk Monthly (Month of September 04, 2020)'),\n",
       " Comment(author='ohsnapitserny', created='09-06-2020', body='So sorry  for the dumb question. But since our Elliot isn’t the real Elliot. Does the real Elliot looks totally different?', ups=1, downs=0, subreddit='Mr. Robot', submission='Free Talk Monthly (Month of September 04, 2020)'),\n",
       " Comment(author='DiegoFab', created='09-06-2020', body='Need a rewatch asap guys...Anyone has a plan?', ups=1, downs=0, subreddit='Mr. Robot', submission='Free Talk Monthly (Month of September 04, 2020)'),\n",
       " Comment(author='Johnn128', created='09-05-2020', body='I really loved the ending but I disliked the last season. I was al a bit much for me. They improvised a hack on the most powerful group on the planet. It was unbeliebable that that would word  not plausible that all those guys would get together and all their money would be diversefied  in assets and spread all over. After that he stops a nuclear explosion with a game. It was so over the top and seemed like hasty writing and filler for the big ending. Mr Robot is my favorite show but it’s definitely not the best show.', ups=1, downs=0, subreddit='Mr. Robot', submission='Free Talk Monthly (Month of September 04, 2020)')]"
      ]
     },
     "execution_count": 78,
     "metadata": {},
     "output_type": "execute_result"
    }
   ],
   "source": [
    "comments"
   ]
  },
  {
   "cell_type": "markdown",
   "metadata": {},
   "source": [
    "# Subreddits"
   ]
  },
  {
   "cell_type": "code",
   "execution_count": 80,
   "metadata": {},
   "outputs": [],
   "source": [
    "\n",
    "\n",
    "date_asof = datetime.datetime.strftime(datetime.datetime.now(),\"%m-%d-%Y\")\n",
    "date_file_format = datetime.datetime.strftime(datetime.datetime.now(),\"%m%d%Y\")\n",
    "\n",
    "\n",
    "def get_top_100_subreddits():\n",
    "    # read table from the webiste\n",
    "    top_100 = pd.read_html('https://frontpagemetrics.com/top')\n",
    "    top_100_subreddits = top_100[0]\n",
    "\n",
    "    # return subreddit names as list \n",
    "    subreddit_names = [subreddit.split('/')[-1] for subreddit in top_100_subreddits.Reddit]\n",
    "    return subreddit_names\n",
    "\n",
    "\n",
    "def extract_attributes_from_subreddits(subreddit_names):\n",
    "    # get subreddit objects\n",
    "    subreddits = [reddit.subreddit(subreddit_name) for subreddit_name in subreddit_names]\n",
    "\n",
    "    # return attributes from each subreddit list of dict\n",
    "    \n",
    "    subreddit_data = [extract_attributes_from_subreddit(subreddit) for subreddit in tqdm(subreddits)]\n",
    "    return subreddit_data    \n",
    "    \n",
    "\n",
    "def store_subreddits_to_csv(subreddit_data, subreddit_names):\n",
    "    # store the result in dataframe\n",
    "    subreddits_df = pd.DataFrame(subreddit_data)\n",
    "\n",
    "    # add a few columns\n",
    "    subreddits_df['created_date'] = subreddits_df.created.apply(convert_timestamp)\n",
    "    subreddits_df['name'] = top_100_subreddits\n",
    "    subreddits_df['asof'] = date_asof\n",
    "\n",
    "    # save as csv\n",
    "    subreddits_df.to_csv(f'top_100_subreddits_{date_file_format}.csv', index=False)\n",
    "    "
   ]
  },
  {
   "cell_type": "code",
   "execution_count": 53,
   "metadata": {},
   "outputs": [
    {
     "name": "stderr",
     "output_type": "stream",
     "text": [
      "100%|██████████| 100/100 [00:28<00:00,  3.55it/s]\n"
     ]
    }
   ],
   "source": [
    "# subreddit_names = get_top_100_subreddits()\n",
    "\n",
    "# subreddit_data = extract_attributes_from_subreddits(subreddit_names)\n",
    "\n",
    "# store_subreddits_to_csv(subreddit_data, subreddit_names)"
   ]
  },
  {
   "cell_type": "markdown",
   "metadata": {},
   "source": [
    "# Submissions"
   ]
  },
  {
   "cell_type": "code",
   "execution_count": 44,
   "metadata": {},
   "outputs": [],
   "source": [
    "    \n",
    "def store_submissions_to_csv(category, num_subreddits=10, limit=10):\n",
    "    \n",
    "    print('Getting list of subreddits...')\n",
    "    \n",
    "    submissions = []\n",
    "    \n",
    "    for subreddit in tqdm(top_100_subreddits[:num_subreddits]):\n",
    "        submission_objects = get_submissions(subreddit, category, limit)\n",
    "        submission_data = [submission_factory(submission_obj) for submission_obj in submission_objects]\n",
    "        submissions += [asdict(submission) for submission in submission_data]\n",
    "    \n",
    "    print('Data extraction complete.')\n",
    "    print('Storing data to csv...')\n",
    "    \n",
    "    pd.DataFrame(submissions).to_csv(f'{category}_submissions_{date_file_format}.csv', index=False)\n",
    "\n"
   ]
  },
  {
   "cell_type": "code",
   "execution_count": 45,
   "metadata": {},
   "outputs": [
    {
     "name": "stderr",
     "output_type": "stream",
     "text": [
      "  0%|          | 0/2 [00:00<?, ?it/s]"
     ]
    },
    {
     "name": "stdout",
     "output_type": "stream",
     "text": [
      "Getting list of subreddits...\n"
     ]
    },
    {
     "name": "stderr",
     "output_type": "stream",
     "text": [
      "100%|██████████| 2/2 [00:12<00:00,  6.06s/it]"
     ]
    },
    {
     "name": "stdout",
     "output_type": "stream",
     "text": [
      "Data extraction complete.\n",
      "Storing data to csv...\n"
     ]
    },
    {
     "name": "stderr",
     "output_type": "stream",
     "text": [
      "\n"
     ]
    }
   ],
   "source": [
    "get_submissions_as_dict('new', 2, 2)"
   ]
  },
  {
   "cell_type": "markdown",
   "metadata": {},
   "source": [
    "# Comments"
   ]
  },
  {
   "cell_type": "code",
   "execution_count": null,
   "metadata": {},
   "outputs": [],
   "source": []
  }
 ],
 "metadata": {
  "kernelspec": {
   "display_name": "Python 3",
   "language": "python",
   "name": "python3"
  },
  "language_info": {
   "codemirror_mode": {
    "name": "ipython",
    "version": 3
   },
   "file_extension": ".py",
   "mimetype": "text/x-python",
   "name": "python",
   "nbconvert_exporter": "python",
   "pygments_lexer": "ipython3",
   "version": "3.8.3"
  }
 },
 "nbformat": 4,
 "nbformat_minor": 4
}
